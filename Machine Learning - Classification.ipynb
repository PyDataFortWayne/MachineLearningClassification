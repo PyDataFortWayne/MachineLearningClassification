{
 "cells": [
  {
   "cell_type": "markdown",
   "metadata": {},
   "source": [
    "# Table of Contents"
   ]
  },
  {
   "cell_type": "markdown",
   "metadata": {},
   "source": [
    "* [Pipelines](#pipelines)\n",
    "    * [Why should I use them?](#whypipelines)\n",
    "    * [Example](#pipeexample)\n",
    "    * [Adding Steps](#addingsteps)\n",
    "* [Types of Classification](#classtypes)\n",
    "    * [Binary Classification](#binary)\n",
    "        * [Dataset for Binary Classification](#datasetbinary)\n",
    "        * [Data Density](#densitybinary)\n",
    "        * [Train Test Split](#splitbinary)\n",
    "        * [Baseline for Comparison](#baselinebinary)\n",
    "        * [K-Fold Crossvalidation](#kfold)\n",
    "        * [Description of Algorithms](#description)\n",
    "        * [Running the baseline](#runningbinary)\n",
    "        * [Scaling the dataset](#scalingbinary)\n",
    "        * [Tuning an SVM model](#tuningSVM)\n",
    "        * [Testing our Models](#testingbinary)\n",
    "    * [Multiclass Classification](#multiclass)\n",
    "        * [Dataset for Multiclass Classification](#datasetmulti)\n",
    "        * [Data Density](#densitymulti)\n",
    "        * [Train Test Split](#splitmulti)\n",
    "        * [Baseline for Comparison](#baselinemulti)\n",
    "        * [Scaling the dataset](#scalingmulti)\n",
    "        * [Running the Baseline](#runningmulti)\n",
    "        * [Testing our Models](#testingmulti)"
   ]
  },
  {
   "cell_type": "markdown",
   "metadata": {},
   "source": [
    "# sci-kit learn's Pipelines <a class=anchor id='pipelines'>\n",
    "\n",
    "One useful feature that sci-kit learn has is the ability to chain together several operations that are cross-validated while setting different parameters. Each intermediate step in the pipeline is a transform, which may [clean](http://scikit-learn.org/stable/modules/preprocessing.html#preprocessing), [reduce](http://scikit-learn.org/stable/modules/unsupervised_reduction.html#data-reduction), [expand](http://scikit-learn.org/stable/modules/kernel_approximation.html#kernel-approximation), or [generate](http://scikit-learn.org/stable/modules/feature_extraction.html#feature-extraction) feature representations and must implement both `fit()` and `transform()` methods. The final step of the pipeline is an estimator, which can perform classification, regression, or clustering and only needs to call `fit()`.\n",
    "\n",
    "## Why should I use them? <a class=anchor id='whypipelines'>\n",
    "\n",
    "### Ease \n",
    "You only need to call `fit` and `predict` once on your data to fit a sequence of estimators.\n",
    "\n",
    "### Parameter selection\n",
    "You can [grid search](http://scikit-learn.org/stable/modules/grid_search.html#grid-search) over parameters of all estimators in one step.\n",
    "\n",
    "### Safety\n",
    "Because Pipelines use cross-validation, data leakage is minimized."
   ]
  },
  {
   "cell_type": "markdown",
   "metadata": {},
   "source": [
    "## Example <a class = anchor id='pipeexample'>\n",
    "\n",
    "In this example we will generate some synthetic data using sklearn's `make_blobs()` and plot the result to see what the data looks like."
   ]
  },
  {
   "cell_type": "code",
   "execution_count": 1,
   "metadata": {},
   "outputs": [
    {
     "data": {
      "image/png": "[encoded data removed]",
      "text/plain": [
       "<Figure size 432x288 with 1 Axes>"
      ]
     },
     "metadata": {},
     "output_type": "display_data"
    }
   ],
   "source": [
    "from sklearn.datasets.samples_generator import make_blobs\n",
    "import pandas as pd\n",
    "import matplotlib.pyplot as plt\n",
    "%matplotlib inline\n",
    "\n",
    "X, y = make_blobs(n_samples=200, centers = 2, n_features = 2) \n",
    "df = pd.DataFrame(dict(x=X[:,0], y=X[:,1], label=y))\n",
    "colors = {0:'red', 1:'blue', 2:'green'}\n",
    "fig, ax = plt.subplots()\n",
    "grouped = df.groupby('label')\n",
    "for key, group in grouped:\n",
    "    group.plot(ax=ax, kind='scatter', x='x', y='y', label=key, color=colors[key])\n",
    "plt.show()"
   ]
  },
  {
   "cell_type": "markdown",
   "metadata": {},
   "source": [
    "Once our data has been generated, we can create a Pipeline to scale and train our model."
   ]
  },
  {
   "cell_type": "code",
   "execution_count": 2,
   "metadata": {},
   "outputs": [
    {
     "name": "stdout",
     "output_type": "stream",
     "text": [
      "100.00%\n",
      "\n"
     ]
    }
   ],
   "source": [
    "from sklearn.preprocessing import StandardScaler\n",
    "from sklearn.pipeline import make_pipeline\n",
    "from sklearn.linear_model import LogisticRegression\n",
    "from sklearn.model_selection import train_test_split\n",
    "from sklearn.metrics import accuracy_score\n",
    "\n",
    "X_train_example, X_test_example, y_train_example, y_test_example = train_test_split(X, y, test_size=0.2, random_state=0)\n",
    "\n",
    "clf = make_pipeline(StandardScaler(), LogisticRegression())\n",
    "clf.fit(X_train_example, y_train_example)\n",
    "pred_test = clf.predict(X_test_example)\n",
    "\n",
    "print('{:.2%}\\n'.format(accuracy_score(y_test_example, pred_test)))"
   ]
  },
  {
   "cell_type": "markdown",
   "metadata": {},
   "source": [
    "An accuracy score of 90% would normally be suspect, but since we are using a very small synthetic dataset with only two features, it's not really surprising that the accuracy would be as high as it is. We can add more steps to our Pipeline without sacrificing code readability."
   ]
  },
  {
   "cell_type": "markdown",
   "metadata": {},
   "source": [
    "### Adding Steps to a Pipeline <a class=anchor id='addingsteps'>\n",
    "\n",
    "\n",
    "Since Pipelines work similarly to lists, we can add (and remove) steps from the Pipeline using the `.steps.append()` to append a step at the end of our Pipeline, or `.steps.insert()` to insert a step at a given position. If we want to remove a step, we can use the `.steps.pop(n)` to remove steps."
   ]
  },
  {
   "cell_type": "markdown",
   "metadata": {},
   "source": [
    "# Types of Classification <a class = anchor id='classtypes'>"
   ]
  },
  {
   "cell_type": "markdown",
   "metadata": {},
   "source": [
    "## Binary Classification <a class=anchor id='binary'>\n",
    "\n",
    "In binary classification, the goal is to predict between two possible class labels, predicting if an e-mail is spam or ham, would be an example of binary classification."
   ]
  },
  {
   "cell_type": "markdown",
   "metadata": {},
   "source": [
    "### Dataset for Binary Classification <a class=anchor id='datasetbinary'>\n",
    "\n",
    "The dataset we will be using for this example is the Wisconsin Breast Cancer dataset. Like the Boston Housing Prices dataset from the regression meeting, this dataset can be loaded from sci-kit learn using `load_breast_cancer()` function from sci-kit learn's datasets package."
   ]
  },
  {
   "cell_type": "code",
   "execution_count": null,
   "metadata": {},
   "outputs": [],
   "source": [
    "from sklearn.datasets import load_breast_cancer\n",
    "\n",
    "cancer_data = load_breast_cancer()"
   ]
  },
  {
   "cell_type": "markdown",
   "metadata": {},
   "source": [
    "Now that have the dataset loaded from sci-kit learn, let's use pandas to get more information about the dataset."
   ]
  },
  {
   "cell_type": "code",
   "execution_count": null,
   "metadata": {},
   "outputs": [],
   "source": [
    "import pandas as pd\n",
    "import numpy as np\n",
    "\n",
    "cancer_df = pd.DataFrame(data=cancer_data.data, columns=cancer_data.feature_names)\n",
    "cancer_df['target'] = cancer_data['target']\n",
    "cancer_df.head()"
   ]
  },
  {
   "cell_type": "markdown",
   "metadata": {},
   "source": [
    "We can see the data printed above, but that doesn't tell us very much about what the columns of data represent. Included in the data is the `DESCR` attribute, which when printed will give us a nicely formatted description of the columns of data in our dataset."
   ]
  },
  {
   "cell_type": "code",
   "execution_count": null,
   "metadata": {},
   "outputs": [],
   "source": [
    "print(cancer_data.DESCR)"
   ]
  },
  {
   "cell_type": "code",
   "execution_count": null,
   "metadata": {},
   "outputs": [],
   "source": [
    "print(cancer_df.groupby('target').size())"
   ]
  },
  {
   "cell_type": "markdown",
   "metadata": {},
   "source": [
    "### Data Density <a class=anchor id='densitybinary'>\n",
    "\n",
    "We can visualize the density of the data to get a sense of the distribution of the data. Knowing the distribution of the data can be helpful in selecting classification algorithms. This plot shows a generally Gaussian or normal distribution of the data."
   ]
  },
  {
   "cell_type": "code",
   "execution_count": null,
   "metadata": {},
   "outputs": [],
   "source": [
    "cancer_df.plot(kind='density', subplots=True, layout=(5,7), sharex=False, legend=False, fontsize=1)\n",
    "plt.show()"
   ]
  },
  {
   "cell_type": "markdown",
   "metadata": {},
   "source": [
    "### Train Test Split <a class=anchor id='splitbinary'>\n",
    "\n",
    "Before we perform any cool machine learning functions with our data we need to make sure that it is split into smaller subsets, to guard against data \"leaking\" through and biasing our results. We will use sklearn's built in `train_test_split` function in `model_selection`."
   ]
  },
  {
   "cell_type": "code",
   "execution_count": null,
   "metadata": {},
   "outputs": [],
   "source": [
    "from sklearn.model_selection import train_test_split\n",
    "\n",
    "X_train, X_test, y_train, y_test = train_test_split(cancer_data.data, cancer_data.target, test_size=0.2, random_state=0)"
   ]
  },
  {
   "cell_type": "markdown",
   "metadata": {},
   "source": [
    "### Baseline Comparison <a class=anchor id='baselinebinary'>\n",
    "\n",
    "Before applying any kind of pre-processing to the data, we should check what performance we are able to achieve without any additional work."
   ]
  },
  {
   "cell_type": "markdown",
   "metadata": {},
   "source": [
    "#### K-Fold Cross-Validation <a class=anchor id='kfold'>\n",
    "\n",
    "In this example we are using 10-fold cross-validation (K = 10 in this case). This will split our set into 10 separate \"pieces\", with a different \"piece\" held out during each run. More information can be found [here](http://scikit-learn.org/stable/modules/cross_validation.html)."
   ]
  },
  {
   "cell_type": "code",
   "execution_count": null,
   "metadata": {},
   "outputs": [],
   "source": [
    "from sklearn.neighbors import KNeighborsClassifier\n",
    "from sklearn.svm import SVC\n",
    "from sklearn.tree import DecisionTreeClassifier\n",
    "from sklearn.naive_bayes import GaussianNB\n",
    "from sklearn.linear_model import LogisticRegression\n",
    "from sklearn.metrics import accuracy_score\n",
    "from sklearn.model_selection import cross_val_score \n",
    "from sklearn.model_selection import KFold\n",
    "import time"
   ]
  },
  {
   "cell_type": "markdown",
   "metadata": {},
   "source": [
    "#### Description of Algorithms <a class=anchor id='description'>\n",
    "\n",
    "##### K-Nearest Neighbors: \n",
    "\n",
    "In KNN, class membership is determined by examining the class membership of the K (default is 5 in sklearn) closest points to the data point in question. More information can be found [here](http://scikit-learn.org/stable/modules/generated/sklearn.neighbors.KNeighborsClassifier.html) and [here](http://scikit-learn.org/stable/modules/neighbors.html).\n",
    "\n",
    "##### Support Vector Classifier:\n",
    "\n",
    "Support Vector Machines seek to make data linearly separable, so that classification decisions can be made. The use of different kernel functions allows the SVM flexibility when different shapes of data are present. More information can be found [here](http://scikit-learn.org/stable/modules/generated/sklearn.svm.SVC.html#sklearn.svm.SVC) and [here](http://scikit-learn.org/stable/modules/svm.html). \n",
    "\n",
    "##### Decision Tree:\n",
    "\n",
    "Decision Trees work by learning simple decision rules inferred from the data features. Each feature is split into yes/no questions for values above or below a certain value or presence/absence of a given feature. More information can be found [here](http://scikit-learn.org/stable/modules/generated/sklearn.tree.DecisionTreeClassifier.html#sklearn.tree.DecisionTreeClassifier) or [here](http://scikit-learn.org/stable/modules/tree.html).\n",
    "\n",
    "##### Gaussian Naive Bayes:\n",
    "\n",
    "Gaussian Naive Bayes works by applying [Bayes Theorem](https://plato.stanford.edu/entries/bayes-theorem/) with strong (naive) assumptions about feature independence. We are using the Gaussian version since our data has a Gaussian distribution. More information can be found [here](http://scikit-learn.org/stable/modules/naive_bayes.html#naive-bayes). \n",
    "\n",
    "##### Logistic Regression: \n",
    "\n",
    "Logistic Regression, despite having regression in the name, is a linear model for classification. The equation for binary classification takes the form $\\hat{y} = w[0] * x[0] + w[1] * x[1] + ... + w[n] * x[n] + b > 0$, if $\\hat{y}$ is greater than 0 we predict the class +1, else -1. More information can be found [here](http://scikit-learn.org/stable/modules/linear_model.html#logistic-regression)."
   ]
  },
  {
   "cell_type": "code",
   "execution_count": null,
   "metadata": {},
   "outputs": [],
   "source": [
    "model_list = []\n",
    "model_list.append(('Tree', DecisionTreeClassifier()))\n",
    "model_list.append(('SVC', SVC()))\n",
    "model_list.append(('KNN', KNeighborsClassifier()))\n",
    "model_list.append(('NB', GaussianNB()))\n",
    "model_list.append(('LR', LogisticRegression()))"
   ]
  },
  {
   "cell_type": "markdown",
   "metadata": {},
   "source": [
    "#### Running the Baseline <a class=anchor id='runningbinary'>"
   ]
  },
  {
   "cell_type": "code",
   "execution_count": null,
   "metadata": {},
   "outputs": [],
   "source": [
    "num_folds = 10\n",
    "results = []\n",
    "names = []\n",
    "\n",
    "for name, model in model_list:\n",
    "    kfold = KFold(n_splits=num_folds, random_state=0)\n",
    "    start = time.time()\n",
    "    cv_results = cross_val_score(model, X_train, y_train, cv=kfold, scoring='accuracy')\n",
    "    end = time.time()\n",
    "    results.append(cv_results)\n",
    "    names.append(name)\n",
    "    print( \"{}: {:.5f} ({:.5f}) (run time: {:.5f})\".format(name, cv_results.mean(), cv_results.std(), end-start))"
   ]
  },
  {
   "cell_type": "markdown",
   "metadata": {},
   "source": [
    "### Scaling the Dataset <a class=anchor id='scalingbinary'>\n",
    "\n",
    "With our baseline established, we can now look to see how applying a scaling factor to the dataset will affect the performance of the dataset. We will use pipelines to standardize the data and fit the model."
   ]
  },
  {
   "cell_type": "code",
   "execution_count": null,
   "metadata": {},
   "outputs": [],
   "source": [
    "from sklearn.preprocessing import StandardScaler\n",
    "from sklearn.pipeline import Pipeline\n",
    "\n",
    "pipelines = []\n",
    "pipelines.append(('ScaledTree', Pipeline([('Scaler', StandardScaler()), ('Tree', DecisionTreeClassifier())])))\n",
    "pipelines.append(('ScaledSVC', Pipeline([('Scaler', StandardScaler()), ('SVM', SVC())])))\n",
    "pipelines.append(('ScaledKNN', Pipeline([('Scaler', StandardScaler()), ('KNN', KNeighborsClassifier())])))\n",
    "pipelines.append(('ScaledNB', Pipeline([('Scaler', StandardScaler()), ('NB', GaussianNB())])))\n",
    "pipelines.append(('ScaledLR', Pipeline([('Scaler', StandardScaler()), ('LR', LogisticRegression())])))"
   ]
  },
  {
   "cell_type": "code",
   "execution_count": null,
   "metadata": {},
   "outputs": [],
   "source": [
    "results = []\n",
    "names = []\n",
    "\n",
    "for name, model in pipelines:\n",
    "    start = time.time()\n",
    "    cv_results = cross_val_score(model, X_train, y_train, cv=kfold, scoring='accuracy')\n",
    "    end = time.time()\n",
    "    results.append(cv_results)\n",
    "    names.append(name)\n",
    "    print( '{}: {:.5f} ({:.5f}) (run time: {:.5f})'.format(name, cv_results.mean(), cv_results.std(), end-start))"
   ]
  },
  {
   "cell_type": "markdown",
   "metadata": {},
   "source": [
    "### Tuning a SVM Model <a class=anchor id='tuningSVM'>\n",
    "\n",
    "While we have achieved fairly high accuracy on the training set already, we can usually squeeze more performance out of a particular algorithm by tuning the hyperparameters of the algorithm. In this case we will use `GridSearchCV` and test different values of the parameter `C` along with the `kernel` hyperparameter."
   ]
  },
  {
   "cell_type": "code",
   "execution_count": null,
   "metadata": {},
   "outputs": [],
   "source": [
    "from sklearn.model_selection import GridSearchCV\n",
    "\n",
    "scaler = StandardScaler().fit(X_train)\n",
    "rescaledX = scaler.transform(X_train)"
   ]
  },
  {
   "cell_type": "markdown",
   "metadata": {},
   "source": [
    "Here we are specifying the values of `C` and the `kernel` that we would like to iterate over when we are doing our `GridSearchCV`. We then create a Python `dict` to create a grid that can be iterated over."
   ]
  },
  {
   "cell_type": "code",
   "execution_count": null,
   "metadata": {},
   "outputs": [],
   "source": [
    "c_values = [0.1, 0.3, 0.5, 0.7, 0.9, 1.0, 1.3, 1.5, 1.7, 2.0]\n",
    "kernel_values = ['linear', 'poly', 'rbf', 'sigmoid']\n",
    "param_grid = dict(C=c_values, kernel=kernel_values)"
   ]
  },
  {
   "cell_type": "markdown",
   "metadata": {},
   "source": [
    "Next, we create the `Support Vector Classifier` object and the `KFold` object, along with the `GridSearchCV` object. We will pass the scaled `X_train` dataset and the unscaled target values. We can get the best results using the `best_score_` and `best_params_` attributes of `GridSearchCV`. We can then print this, along with mean, standard deviation and parameter value from each combination."
   ]
  },
  {
   "cell_type": "code",
   "execution_count": null,
   "metadata": {},
   "outputs": [],
   "source": [
    "model = SVC()\n",
    "kfold = KFold(n_splits=num_folds, random_state=21)\n",
    "grid = GridSearchCV(estimator=model, param_grid=param_grid, scoring='accuracy', cv=kfold)\n",
    "grid_result = grid.fit(rescaledX, y_train)\n",
    "print(\"Best: {:.5f} using {}\".format(grid_result.best_score_, grid_result.best_params_))\n",
    "means = grid_result.cv_results_['mean_test_score']\n",
    "stds = grid_result.cv_results_['std_test_score']\n",
    "params = grid_result.cv_results_['params']\n",
    "for mean, stdev, param in zip(means, stds, params):\n",
    "    print(\"{:.5f} ({:.5f}) with: {}\".format(mean, stdev, param))"
   ]
  },
  {
   "cell_type": "markdown",
   "metadata": {},
   "source": [
    "### Testing Our Models <a class=anchor id='testingbinary'>\n",
    "\n",
    "Now that we have improved our model's performance on the training set, we should look at how well both our baseline models and our tuned SVM model does on our testing set. Since we scaled our training data, we need to apply the same scaling to our testing data."
   ]
  },
  {
   "cell_type": "code",
   "execution_count": null,
   "metadata": {},
   "outputs": [],
   "source": [
    "X_test_scaled = scaler.transform(X_test)"
   ]
  },
  {
   "cell_type": "markdown",
   "metadata": {},
   "source": [
    "We will use the same algorithms for the testing that we used in establishing our baseline. Since we used default parameters for the baseline, we will use them for testing as well."
   ]
  },
  {
   "cell_type": "code",
   "execution_count": null,
   "metadata": {},
   "outputs": [],
   "source": [
    "model_tree = DecisionTreeClassifier().fit(rescaledX, y_train)\n",
    "model_knn = KNeighborsClassifier().fit(rescaledX, y_train)\n",
    "model_NB = GaussianNB().fit(rescaledX, y_train)\n",
    "model_LR = LogisticRegression().fit(rescaledX, y_train)\n",
    "\n",
    "print('Accuracy score: Tree: {:.5f}'. format(accuracy_score(model_tree.predict(X_test_scaled), y_test)))\n",
    "print('Accuracy score: KNN: {:.5f}'. format(accuracy_score(model_knn.predict(X_test_scaled), y_test)))\n",
    "print('Accuracy score: GaussianNB: {:.5f}'. format(accuracy_score(model_NB.predict(X_test_scaled), y_test)))\n",
    "print('Accuracy score: LR: {:.5f}'. format(accuracy_score(model_LR.predict(X_test_scaled), y_test)))"
   ]
  },
  {
   "cell_type": "markdown",
   "metadata": {},
   "source": [
    "We can create our SVM model using the best values from our use of `GridSearchCV`. Using this model we can test to see how well it performs on our test data. From here we can decide to use that model or select a new one."
   ]
  },
  {
   "cell_type": "code",
   "execution_count": null,
   "metadata": {},
   "outputs": [],
   "source": [
    "model_svc = SVC(C= 0.5, kernel='linear')\n",
    "\n",
    "model_svc.fit(rescaledX, y_train)\n",
    "\n",
    "predictions = model_svc.predict(X_test_scaled)\n",
    "print('Accuracy score: {:.5f}'.format(accuracy_score(predictions, y_test)))"
   ]
  },
  {
   "cell_type": "markdown",
   "metadata": {},
   "source": [
    "## Multiclass Classification <a class=anchor id='multiclass'>\n",
    "\n",
    "Multiclass classification, on the other hand, the goal is to predict possible class labels on more than two possible class labels."
   ]
  },
  {
   "cell_type": "markdown",
   "metadata": {},
   "source": [
    "### Dataset for Multiclass Classification <a class=anchor id='datasetmulti'>\n",
    "\n",
    "The dataset we will be using for the multiclass example is UCL Wine dataset, the goal of the dataset is to predict which cultivar a sample of wine is from."
   ]
  },
  {
   "cell_type": "code",
   "execution_count": null,
   "metadata": {},
   "outputs": [],
   "source": [
    "from sklearn.datasets import load_wine\n",
    "\n",
    "wine_data = load_wine()"
   ]
  },
  {
   "cell_type": "markdown",
   "metadata": {},
   "source": [
    "Much like the Binary Classification example, we will load the wine dataset into a pandas `DataFrame` so that we can get a better look at the data in question."
   ]
  },
  {
   "cell_type": "code",
   "execution_count": null,
   "metadata": {},
   "outputs": [],
   "source": [
    "wine_df = pd.DataFrame(wine_data.data, columns=wine_data.feature_names)\n",
    "wine_df['target'] = wine_data['target']\n",
    "wine_df.head()"
   ]
  },
  {
   "cell_type": "markdown",
   "metadata": {},
   "source": [
    "Again, like our earlier dataset, we can use the `DESCR` attribute of the dataset to get more information about the dataset without having to look it up on an external website."
   ]
  },
  {
   "cell_type": "code",
   "execution_count": null,
   "metadata": {},
   "outputs": [],
   "source": [
    "print(wine_data.DESCR)"
   ]
  },
  {
   "cell_type": "markdown",
   "metadata": {},
   "source": [
    "### Data Density <a class=anchor id='densitymulti'>\n",
    "\n",
    "We can visualize the density of the data to get a sense of the distribution of the data. Knowing the distribution of the data can be helpful in selecting classification algorithms. This plot shows a generally Gaussian or normal distribution of the data."
   ]
  },
  {
   "cell_type": "code",
   "execution_count": null,
   "metadata": {},
   "outputs": [],
   "source": [
    "wine_df.plot(kind='density', subplots=True, layout=(5,7), sharex=False, legend=False, fontsize=1)\n",
    "plt.show()"
   ]
  },
  {
   "cell_type": "markdown",
   "metadata": {},
   "source": [
    "## Train Test Split <a class=anchor id='splitmulti'>"
   ]
  },
  {
   "cell_type": "code",
   "execution_count": null,
   "metadata": {},
   "outputs": [],
   "source": [
    "from sklearn.model_selection import train_test_split\n",
    "\n",
    "X_train_wine, X_test_wine, y_train_wine, y_test_wine = train_test_split(wine_data.data, wine_data.target, \n",
    "                                                                        test_size=0.3, random_state=0)"
   ]
  },
  {
   "cell_type": "markdown",
   "metadata": {},
   "source": [
    "## Baseline for Comparison <a class=anchor id='baselinemulti'>"
   ]
  },
  {
   "cell_type": "code",
   "execution_count": null,
   "metadata": {},
   "outputs": [],
   "source": [
    "from sklearn.neighbors import KNeighborsClassifier\n",
    "from sklearn.svm import SVC\n",
    "from sklearn.tree import DecisionTreeClassifier\n",
    "from sklearn.naive_bayes import GaussianNB\n",
    "from sklearn.linear_model import LogisticRegression\n",
    "from sklearn.metrics import accuracy_score\n",
    "from sklearn.model_selection import cross_val_score \n",
    "from sklearn.model_selection import KFold\n",
    "import time"
   ]
  },
  {
   "cell_type": "code",
   "execution_count": null,
   "metadata": {},
   "outputs": [],
   "source": [
    "model_list = []\n",
    "model_list.append(('Tree', DecisionTreeClassifier()))\n",
    "model_list.append(('SVC', SVC()))\n",
    "model_list.append(('KNN', KNeighborsClassifier()))\n",
    "model_list.append(('NB', GaussianNB()))\n",
    "model_list.append(('LR', LogisticRegression()))"
   ]
  },
  {
   "cell_type": "markdown",
   "metadata": {},
   "source": [
    "### Running the Baseline <a class=anchor id='runningmulti'>"
   ]
  },
  {
   "cell_type": "code",
   "execution_count": null,
   "metadata": {},
   "outputs": [],
   "source": [
    "num_folds = 10\n",
    "results = []\n",
    "names = []\n",
    "\n",
    "for name, model in model_list:\n",
    "    kfold = KFold(n_splits=num_folds, random_state=0)\n",
    "    start = time.time()\n",
    "    cv_results = cross_val_score(model, X_train_wine, y_train_wine, cv=kfold, scoring='accuracy')\n",
    "    end = time.time()\n",
    "    results.append(cv_results)\n",
    "    names.append(name)\n",
    "    print( \"{}: {:.5f} ({:.5f}) (run time: {:.5f})\".format(name, cv_results.mean(), cv_results.std(), end-start))"
   ]
  },
  {
   "cell_type": "markdown",
   "metadata": {},
   "source": [
    "### Scaling the Dataset <a class=anchor id='scalingmulti'>\n",
    "\n",
    "With our baseline established, we can now look to see how applying a scaling factor to the dataset will affect the performance of the dataset. We will use pipelines to standardize the data and fit the model."
   ]
  },
  {
   "cell_type": "code",
   "execution_count": null,
   "metadata": {},
   "outputs": [],
   "source": [
    "from sklearn.preprocessing import StandardScaler\n",
    "from sklearn.pipeline import Pipeline\n",
    "\n",
    "pipelines = []\n",
    "pipelines.append(('ScaledTree', Pipeline([('Scaler', StandardScaler()), ('Tree', DecisionTreeClassifier())])))\n",
    "pipelines.append(('ScaledSVC', Pipeline([('Scaler', StandardScaler()), ('SVM', SVC())])))\n",
    "pipelines.append(('ScaledKNN', Pipeline([('Scaler', StandardScaler()), ('KNN', KNeighborsClassifier())])))\n",
    "pipelines.append(('ScaledNB', Pipeline([('Scaler', StandardScaler()), ('NB', GaussianNB())])))\n",
    "pipelines.append(('ScaledLR', Pipeline([('Scaler', StandardScaler()), ('LR', LogisticRegression())])))"
   ]
  },
  {
   "cell_type": "code",
   "execution_count": null,
   "metadata": {},
   "outputs": [],
   "source": [
    "results = []\n",
    "names = []\n",
    "\n",
    "for name, model in pipelines:\n",
    "    start = time.time()\n",
    "    cv_results = cross_val_score(model, X_train_wine, y_train_wine, cv=kfold, scoring='accuracy')\n",
    "    end = time.time()\n",
    "    results.append(cv_results)\n",
    "    names.append(name)\n",
    "    print( \"{}: {:.5f} ({:.5f}) (run time: {:.5f})\".format(name, cv_results.mean(), cv_results.std(), end-start))"
   ]
  },
  {
   "cell_type": "markdown",
   "metadata": {},
   "source": [
    "### Testing our Models <a class=anchor id='testingmulti'>\n",
    "\n",
    "Given that our models all perform reasonably well on our data and since we just did an example on tuning an SVM, we can go ahead and see how well our models perform on the test data. "
   ]
  },
  {
   "cell_type": "code",
   "execution_count": null,
   "metadata": {},
   "outputs": [],
   "source": [
    "scaler = StandardScaler().fit(X_train_wine)\n",
    "rescaledX_wine = scaler.transform(X_train_wine)\n",
    "X_test_scaled_wine = scaler.transform(X_test_wine)\n",
    "\n",
    "model_tree = DecisionTreeClassifier().fit(rescaledX_wine, y_train_wine)\n",
    "model_knn = KNeighborsClassifier().fit(rescaledX_wine, y_train_wine)\n",
    "model_NB = GaussianNB().fit(rescaledX_wine, y_train_wine)\n",
    "model_LR = LogisticRegression().fit(rescaledX_wine, y_train_wine)\n",
    "model_SVC = SVC().fit(rescaledX_wine, y_train_wine)\n",
    "\n",
    "print('Accuracy score: Tree: {:.5f}'. format(accuracy_score(model_tree.predict(X_test_scaled_wine), y_test_wine)))\n",
    "print('Accuracy score: SVM: {:.5f}'. format(accuracy_score(model_SVC.predict(X_test_scaled_wine), y_test_wine)))\n",
    "print('Accuracy score: KNN: {:.5f}'. format(accuracy_score(model_knn.predict(X_test_scaled_wine), y_test_wine)))\n",
    "print('Accuracy score: GaussianNB: {:.5f}'. format(accuracy_score(model_NB.predict(X_test_scaled_wine), y_test_wine)))\n",
    "print('Accuracy score: LR: {:.5f}'. format(accuracy_score(model_LR.predict(X_test_scaled_wine), y_test_wine)))"
   ]
  }
 ],
 "metadata": {
  "kernelspec": {
   "display_name": "Python 3",
   "language": "python",
   "name": "python3"
  },
  "language_info": {
   "codemirror_mode": {
    "name": "ipython",
    "version": 3
   },
   "file_extension": ".py",
   "mimetype": "text/x-python",
   "name": "python",
   "nbconvert_exporter": "python",
   "pygments_lexer": "ipython3",
   "version": "3.6.5"
  }
 },
 "nbformat": 4,
 "nbformat_minor": 2
}
